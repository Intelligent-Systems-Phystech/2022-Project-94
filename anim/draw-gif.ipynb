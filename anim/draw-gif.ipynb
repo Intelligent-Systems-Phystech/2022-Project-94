{
 "cells": [
  {
   "cell_type": "code",
   "execution_count": 3,
   "metadata": {},
   "outputs": [],
   "source": [
    "import pandas as pd\n",
    "import numpy as np\n",
    "import geopandas as gpd\n",
    "from shapely.geometry import Point, Polygon, box\n",
    "\n",
    "import matplotlib.pyplot as plt\n",
    "import matplotlib.pyplot as plt\n",
    "\n",
    "import geopandas as gpd\n",
    "from shapely.geometry import Point, Polygon, LineString\n",
    "from shapely.geometry import box"
   ]
  },
  {
   "cell_type": "markdown",
   "metadata": {},
   "source": [
    "## Загружаем данные\n",
    "\n",
    "В качестве примера расчёт кудрявцевской модели на исторических данных"
   ]
  },
  {
   "cell_type": "code",
   "execution_count": 24,
   "metadata": {},
   "outputs": [],
   "source": [
    "df = pd.read_csv('dataset_for_drawing.csv')"
   ]
  },
  {
   "cell_type": "markdown",
   "metadata": {},
   "source": [
    "## Полезные функции"
   ]
  },
  {
   "cell_type": "code",
   "execution_count": 107,
   "metadata": {},
   "outputs": [],
   "source": [
    "\n",
    "\n",
    "def plot_map(df_year, column, epsg=3035, part_world_to_plot='world', img_path=None, text=None, show=True, vmin=None, vmax=None):\n",
    "    # lons = df_year.lon.unique()\n",
    "    # dx = (lons[1] - lons[0]) / 2\n",
    "    # lats = df_year.lat.unique()\n",
    "    # dy = (lats[1] - lats[0]) / 2\n",
    "    dx, dy = .5531, .5531\n",
    "    geometry = [Polygon([(x-dx, y-dy),\n",
    "                         (x+dx, y-dy),\n",
    "                         (x+dx, y+dy),\n",
    "                         (x-dx, y+dy)]) for x, y in zip(df_year.lon, df_year.lat)]\n",
    "\n",
    "    geodf = gpd.GeoDataFrame(df_year, crs = 4326, geometry=geometry)\n",
    "    \n",
    "    \n",
    "    polygon = box(36.1, 43., 41.7, 46.9)\n",
    "\n",
    "    \n",
    "    world = gpd.read_file(gpd.datasets.get_path('naturalearth_lowres'))\n",
    "    world = gpd.clip(world, polygon)\n",
    "    \n",
    "    \n",
    "    if part_world_to_plot == 'nothern':\n",
    "        basemap = world.cx[:, 52:]\n",
    "    elif part_world_to_plot == 'world':\n",
    "        basemap = world\n",
    "    elif part_world_to_plot == 'europe':\n",
    "        basemap = world[world.continent == 'Europe'] \n",
    "        \n",
    "        a = basemap.geometry.iloc[0]\n",
    "        def restriction(x):\n",
    "            x = x.bounds\n",
    "            l1, r1 = x[0], x[2]\n",
    "            l2, r2 = x[1], x[3]\n",
    "\n",
    "            return (l1 > a.bounds[0] and r1 < a.bounds[2]) and (l2 > a.bounds[1] and r2 < a.bounds[3])\n",
    "\n",
    "        geodf = geodf[geodf.geometry.apply(restriction) == True]\n",
    "        \n",
    "    elif part_world_to_plot == 'russia':\n",
    "        europe = world[world.continent == 'Europe'] \n",
    "        basemap = europe[europe.name =='Russia']\n",
    "        \n",
    "        a = basemap.geometry.iloc[0]\n",
    "        print(a.bounds)\n",
    "        def restriction(x):\n",
    "            x = x.bounds\n",
    "            l1, r1 = x[0], x[2]\n",
    "            l2, r2 = x[1], x[3]\n",
    "\n",
    "            return (l1 > a.bounds[0] and r1 < a.bounds[2]) and (l2 > a.bounds[1] and r2 < a.bounds[3])\n",
    "\n",
    "        geodf = geodf[geodf.geometry.apply(restriction) == True]\n",
    "        \n",
    "    basemap = basemap.to_crs(epsg=epsg)\n",
    "    geodf = geodf.to_crs(epsg=epsg)\n",
    "    \n",
    "    f = plt.figure(dpi = 200)\n",
    "    ax = f.gca()\n",
    "    ax.set_facecolor('white')\n",
    "\n",
    "    if vmin is None:\n",
    "        vmin = df_year[column].min()\n",
    "    \n",
    "    if vmax is None:\n",
    "        vmax = df_year[column].max()\n",
    "\n",
    "    basemap.plot(ax=ax, color = '#CACACA')\n",
    "    geodf.plot(ax = ax, column = column, legend=True,\n",
    "              legend_kwds={'orientation': \"horizontal\",\n",
    "                            'shrink': 0.5,\n",
    "                            'extend': 'neither'\n",
    "                          }, #cax=cax,\n",
    "              vmin=0, vmax=0.5, aspect=0.5, edgecolor=\"face\", linewidth=0.2, alpha=0.5, )\n",
    "\n",
    "    if text is None:\n",
    "        text = column\n",
    "    plt.title(text)\n",
    "    plt.axis('equal')\n",
    "    plt.axis('off')\n",
    "    if img_path is not None:\n",
    "        plt.savefig(img_path, transparent=False, facecolor='w')\n",
    "    if show:\n",
    "        plt.show()\n",
    "\n",
    "def plot_grid(ax, crs, color='black', linewidth=.5, alpha=0.1, xmin=-180, \n",
    "              xmax=179.999, ymin=-90, ymax=90, n=10, width=15, height=15):\n",
    "    cols = list(np.arange(xmin, xmax + width, width))\n",
    "    rows = list(np.arange(ymin, ymax + height, height))\n",
    "\n",
    "    xlin = np.linspace(xmin, xmax, n*len(cols))\n",
    "    ylin = np.linspace(ymin, ymax, n*len(rows))\n",
    "    lines  = [LineString(zip([x]*(n*len(rows)), ylin)) for x in cols]\n",
    "    lines += [LineString(zip(xlin, [y]*(n*len(cols)))) for y in rows]\n",
    "\n",
    "    grid = gpd.GeoDataFrame(lines, crs=4326, geometry=lines)\n",
    "    grid.to_crs(crs, inplace=True)\n",
    "\n",
    "    grid.plot(ax=ax, color=color, linewidth=linewidth, alpha=0)\n",
    "\n",
    "def plot_points(df, epsg=3035):\n",
    "    polygon = box(-180, 23, 180, 90)\n",
    "    world = gpd.read_file(gpd.datasets.get_path('naturalearth_lowres'))\n",
    "    world = gpd.clip(world, polygon)\n",
    "\n",
    "    basemap = world.cx[:, 52:]\n",
    "    basemap = basemap.to_crs(epsg=epsg)\n",
    "\n",
    "    f = plt.figure(dpi = 200)\n",
    "    ax = f.gca()\n",
    "    basemap.plot(ax=ax, color = '#CACACA')\n",
    "\n",
    "    pts = gpd.points_from_xy(df.lon, df.lat)\n",
    "    pts = gpd.GeoDataFrame(pts)\n",
    "    pts = pts.set_geometry(0)\n",
    "    pts.crs = 4326\n",
    "\n",
    "    pts = pts.to_crs(basemap.crs)\n",
    "    pts.plot(ax=ax, markersize=1, color='#373F51')\n",
    "    plt.axis('off')"
   ]
  },
  {
   "cell_type": "code",
   "execution_count": 26,
   "metadata": {},
   "outputs": [
    {
     "data": {
      "text/html": [
       "<div>\n",
       "<style scoped>\n",
       "    .dataframe tbody tr th:only-of-type {\n",
       "        vertical-align: middle;\n",
       "    }\n",
       "\n",
       "    .dataframe tbody tr th {\n",
       "        vertical-align: top;\n",
       "    }\n",
       "\n",
       "    .dataframe thead th {\n",
       "        text-align: right;\n",
       "    }\n",
       "</style>\n",
       "<table border=\"1\" class=\"dataframe\">\n",
       "  <thead>\n",
       "    <tr style=\"text-align: right;\">\n",
       "      <th></th>\n",
       "      <th>index</th>\n",
       "      <th>year</th>\n",
       "      <th>lon</th>\n",
       "      <th>lat</th>\n",
       "      <th>Probability_of_hail</th>\n",
       "    </tr>\n",
       "  </thead>\n",
       "  <tbody>\n",
       "    <tr>\n",
       "      <th>0</th>\n",
       "      <td>0</td>\n",
       "      <td>2022.0</td>\n",
       "      <td>19.125</td>\n",
       "      <td>42.05582</td>\n",
       "      <td>0.085490</td>\n",
       "    </tr>\n",
       "    <tr>\n",
       "      <th>1</th>\n",
       "      <td>1</td>\n",
       "      <td>2022.0</td>\n",
       "      <td>19.125</td>\n",
       "      <td>43.17731</td>\n",
       "      <td>0.052279</td>\n",
       "    </tr>\n",
       "    <tr>\n",
       "      <th>2</th>\n",
       "      <td>2</td>\n",
       "      <td>2022.0</td>\n",
       "      <td>19.125</td>\n",
       "      <td>44.29879</td>\n",
       "      <td>0.054191</td>\n",
       "    </tr>\n",
       "    <tr>\n",
       "      <th>3</th>\n",
       "      <td>3</td>\n",
       "      <td>2022.0</td>\n",
       "      <td>19.125</td>\n",
       "      <td>45.42028</td>\n",
       "      <td>0.041125</td>\n",
       "    </tr>\n",
       "    <tr>\n",
       "      <th>4</th>\n",
       "      <td>4</td>\n",
       "      <td>2022.0</td>\n",
       "      <td>19.125</td>\n",
       "      <td>46.54176</td>\n",
       "      <td>0.047650</td>\n",
       "    </tr>\n",
       "    <tr>\n",
       "      <th>...</th>\n",
       "      <td>...</td>\n",
       "      <td>...</td>\n",
       "      <td>...</td>\n",
       "      <td>...</td>\n",
       "      <td>...</td>\n",
       "    </tr>\n",
       "    <tr>\n",
       "      <th>142907</th>\n",
       "      <td>142907</td>\n",
       "      <td>2050.0</td>\n",
       "      <td>191.250</td>\n",
       "      <td>72.33558</td>\n",
       "      <td>0.074833</td>\n",
       "    </tr>\n",
       "    <tr>\n",
       "      <th>142908</th>\n",
       "      <td>142908</td>\n",
       "      <td>2050.0</td>\n",
       "      <td>191.250</td>\n",
       "      <td>73.45701</td>\n",
       "      <td>0.098267</td>\n",
       "    </tr>\n",
       "    <tr>\n",
       "      <th>142909</th>\n",
       "      <td>142909</td>\n",
       "      <td>2050.0</td>\n",
       "      <td>191.250</td>\n",
       "      <td>74.57843</td>\n",
       "      <td>0.058211</td>\n",
       "    </tr>\n",
       "    <tr>\n",
       "      <th>142910</th>\n",
       "      <td>142910</td>\n",
       "      <td>2050.0</td>\n",
       "      <td>191.250</td>\n",
       "      <td>75.69984</td>\n",
       "      <td>0.062473</td>\n",
       "    </tr>\n",
       "    <tr>\n",
       "      <th>142911</th>\n",
       "      <td>142911</td>\n",
       "      <td>2050.0</td>\n",
       "      <td>191.250</td>\n",
       "      <td>76.82124</td>\n",
       "      <td>0.000706</td>\n",
       "    </tr>\n",
       "  </tbody>\n",
       "</table>\n",
       "<p>142912 rows × 5 columns</p>\n",
       "</div>"
      ],
      "text/plain": [
       "         index    year      lon       lat  Probability_of_hail\n",
       "0            0  2022.0   19.125  42.05582             0.085490\n",
       "1            1  2022.0   19.125  43.17731             0.052279\n",
       "2            2  2022.0   19.125  44.29879             0.054191\n",
       "3            3  2022.0   19.125  45.42028             0.041125\n",
       "4            4  2022.0   19.125  46.54176             0.047650\n",
       "...        ...     ...      ...       ...                  ...\n",
       "142907  142907  2050.0  191.250  72.33558             0.074833\n",
       "142908  142908  2050.0  191.250  73.45701             0.098267\n",
       "142909  142909  2050.0  191.250  74.57843             0.058211\n",
       "142910  142910  2050.0  191.250  75.69984             0.062473\n",
       "142911  142911  2050.0  191.250  76.82124             0.000706\n",
       "\n",
       "[142912 rows x 5 columns]"
      ]
     },
     "execution_count": 26,
     "metadata": {},
     "output_type": "execute_result"
    }
   ],
   "source": [
    "df = df.reset_index().drop(columns = [\"Unnamed: 0\"])\n",
    "df"
   ]
  },
  {
   "cell_type": "code",
   "execution_count": 27,
   "metadata": {},
   "outputs": [],
   "source": [
    "years = sorted(list(df['year'].unique()))"
   ]
  },
  {
   "cell_type": "code",
   "execution_count": 28,
   "metadata": {},
   "outputs": [
    {
     "name": "stdout",
     "output_type": "stream",
     "text": [
      "hello world\n"
     ]
    }
   ],
   "source": [
    "print(\"hello world\")"
   ]
  },
  {
   "cell_type": "code",
   "execution_count": null,
   "metadata": {},
   "outputs": [],
   "source": [
    "[df[\"lon\"] < 46][df[\"lon\"] > 42][df[\"lat\"]< 100][df[\"lat\"] > 36]"
   ]
  },
  {
   "cell_type": "markdown",
   "metadata": {},
   "source": [
    "Рисуем одно изображение чтобы посмотреть как оно выглядит"
   ]
  },
  {
   "cell_type": "code",
   "execution_count": 108,
   "metadata": {},
   "outputs": [
    {
     "name": "stderr",
     "output_type": "stream",
     "text": [
      "C:\\Users\\Иван\\AppData\\Local\\Temp\\ipykernel_23128\\2062097860.py:3: UserWarning: Boolean Series key will be reindexed to match DataFrame index.\n",
      "  plot_map(df[df['year'] == year][df[\"lon\"] < 41.7][df[\"lon\"] > 36.1][df[\"lat\"]< 46.9][df[\"lat\"] > 43], 'Probability_of_hail', text=f'max prob, year={year}')\n"
     ]
    },
    {
     "data": {
      "image/png": "[encoded data removed]",
      "text/plain": [
       "<Figure size 1200x800 with 2 Axes>"
      ]
     },
     "metadata": {
      "needs_background": "light"
     },
     "output_type": "display_data"
    }
   ],
   "source": [
    "# todo: поставить границы Краснодарского края \n",
    "year = 2022\n",
    "plot_map(df[df['year'] == year][df[\"lon\"] < 41.7][df[\"lon\"] > 36.1][df[\"lat\"]< 46.9][df[\"lat\"] > 43], 'Probability_of_hail', text=f'max prob, year={year}')"
   ]
  },
  {
   "cell_type": "markdown",
   "metadata": {},
   "source": [
    "## Сохраняем изображения\n",
    "нужно создать папку anim"
   ]
  },
  {
   "cell_type": "code",
   "execution_count": 109,
   "metadata": {},
   "outputs": [
    {
     "name": "stderr",
     "output_type": "stream",
     "text": [
      "C:\\Users\\Иван\\AppData\\Local\\Temp\\ipykernel_23128\\961010892.py:7: UserWarning: Boolean Series key will be reindexed to match DataFrame index.\n",
      "  plot_map(df[df['year'] == year][df[\"lon\"] < 41.7][df[\"lon\"] > 36.1][df[\"lat\"]< 46.9][df[\"lat\"] > 43], column,\n"
     ]
    },
    {
     "name": "stdout",
     "output_type": "stream",
     "text": [
      "2022\n"
     ]
    },
    {
     "name": "stderr",
     "output_type": "stream",
     "text": [
      "C:\\Users\\Иван\\AppData\\Local\\Temp\\ipykernel_23128\\961010892.py:7: UserWarning: Boolean Series key will be reindexed to match DataFrame index.\n",
      "  plot_map(df[df['year'] == year][df[\"lon\"] < 41.7][df[\"lon\"] > 36.1][df[\"lat\"]< 46.9][df[\"lat\"] > 43], column,\n"
     ]
    },
    {
     "name": "stdout",
     "output_type": "stream",
     "text": [
      "2023\n"
     ]
    },
    {
     "name": "stderr",
     "output_type": "stream",
     "text": [
      "C:\\Users\\Иван\\AppData\\Local\\Temp\\ipykernel_23128\\961010892.py:7: UserWarning: Boolean Series key will be reindexed to match DataFrame index.\n",
      "  plot_map(df[df['year'] == year][df[\"lon\"] < 41.7][df[\"lon\"] > 36.1][df[\"lat\"]< 46.9][df[\"lat\"] > 43], column,\n"
     ]
    },
    {
     "name": "stdout",
     "output_type": "stream",
     "text": [
      "2024\n"
     ]
    },
    {
     "name": "stderr",
     "output_type": "stream",
     "text": [
      "C:\\Users\\Иван\\AppData\\Local\\Temp\\ipykernel_23128\\961010892.py:7: UserWarning: Boolean Series key will be reindexed to match DataFrame index.\n",
      "  plot_map(df[df['year'] == year][df[\"lon\"] < 41.7][df[\"lon\"] > 36.1][df[\"lat\"]< 46.9][df[\"lat\"] > 43], column,\n"
     ]
    },
    {
     "name": "stdout",
     "output_type": "stream",
     "text": [
      "2025\n"
     ]
    },
    {
     "name": "stderr",
     "output_type": "stream",
     "text": [
      "C:\\Users\\Иван\\AppData\\Local\\Temp\\ipykernel_23128\\961010892.py:7: UserWarning: Boolean Series key will be reindexed to match DataFrame index.\n",
      "  plot_map(df[df['year'] == year][df[\"lon\"] < 41.7][df[\"lon\"] > 36.1][df[\"lat\"]< 46.9][df[\"lat\"] > 43], column,\n"
     ]
    },
    {
     "name": "stdout",
     "output_type": "stream",
     "text": [
      "2026\n"
     ]
    },
    {
     "name": "stderr",
     "output_type": "stream",
     "text": [
      "C:\\Users\\Иван\\AppData\\Local\\Temp\\ipykernel_23128\\961010892.py:7: UserWarning: Boolean Series key will be reindexed to match DataFrame index.\n",
      "  plot_map(df[df['year'] == year][df[\"lon\"] < 41.7][df[\"lon\"] > 36.1][df[\"lat\"]< 46.9][df[\"lat\"] > 43], column,\n"
     ]
    },
    {
     "name": "stdout",
     "output_type": "stream",
     "text": [
      "2027\n"
     ]
    },
    {
     "name": "stderr",
     "output_type": "stream",
     "text": [
      "C:\\Users\\Иван\\AppData\\Local\\Temp\\ipykernel_23128\\961010892.py:7: UserWarning: Boolean Series key will be reindexed to match DataFrame index.\n",
      "  plot_map(df[df['year'] == year][df[\"lon\"] < 41.7][df[\"lon\"] > 36.1][df[\"lat\"]< 46.9][df[\"lat\"] > 43], column,\n"
     ]
    },
    {
     "name": "stdout",
     "output_type": "stream",
     "text": [
      "2028\n"
     ]
    },
    {
     "name": "stderr",
     "output_type": "stream",
     "text": [
      "C:\\Users\\Иван\\AppData\\Local\\Temp\\ipykernel_23128\\961010892.py:7: UserWarning: Boolean Series key will be reindexed to match DataFrame index.\n",
      "  plot_map(df[df['year'] == year][df[\"lon\"] < 41.7][df[\"lon\"] > 36.1][df[\"lat\"]< 46.9][df[\"lat\"] > 43], column,\n"
     ]
    },
    {
     "name": "stdout",
     "output_type": "stream",
     "text": [
      "2029\n"
     ]
    },
    {
     "name": "stderr",
     "output_type": "stream",
     "text": [
      "C:\\Users\\Иван\\AppData\\Local\\Temp\\ipykernel_23128\\961010892.py:7: UserWarning: Boolean Series key will be reindexed to match DataFrame index.\n",
      "  plot_map(df[df['year'] == year][df[\"lon\"] < 41.7][df[\"lon\"] > 36.1][df[\"lat\"]< 46.9][df[\"lat\"] > 43], column,\n"
     ]
    },
    {
     "name": "stdout",
     "output_type": "stream",
     "text": [
      "2030\n"
     ]
    },
    {
     "name": "stderr",
     "output_type": "stream",
     "text": [
      "C:\\Users\\Иван\\AppData\\Local\\Temp\\ipykernel_23128\\961010892.py:7: UserWarning: Boolean Series key will be reindexed to match DataFrame index.\n",
      "  plot_map(df[df['year'] == year][df[\"lon\"] < 41.7][df[\"lon\"] > 36.1][df[\"lat\"]< 46.9][df[\"lat\"] > 43], column,\n"
     ]
    },
    {
     "name": "stdout",
     "output_type": "stream",
     "text": [
      "2031\n"
     ]
    },
    {
     "name": "stderr",
     "output_type": "stream",
     "text": [
      "C:\\Users\\Иван\\AppData\\Local\\Temp\\ipykernel_23128\\961010892.py:7: UserWarning: Boolean Series key will be reindexed to match DataFrame index.\n",
      "  plot_map(df[df['year'] == year][df[\"lon\"] < 41.7][df[\"lon\"] > 36.1][df[\"lat\"]< 46.9][df[\"lat\"] > 43], column,\n"
     ]
    },
    {
     "name": "stdout",
     "output_type": "stream",
     "text": [
      "2032\n"
     ]
    },
    {
     "name": "stderr",
     "output_type": "stream",
     "text": [
      "C:\\Users\\Иван\\AppData\\Local\\Temp\\ipykernel_23128\\961010892.py:7: UserWarning: Boolean Series key will be reindexed to match DataFrame index.\n",
      "  plot_map(df[df['year'] == year][df[\"lon\"] < 41.7][df[\"lon\"] > 36.1][df[\"lat\"]< 46.9][df[\"lat\"] > 43], column,\n"
     ]
    },
    {
     "name": "stdout",
     "output_type": "stream",
     "text": [
      "2033\n"
     ]
    },
    {
     "name": "stderr",
     "output_type": "stream",
     "text": [
      "C:\\Users\\Иван\\AppData\\Local\\Temp\\ipykernel_23128\\961010892.py:7: UserWarning: Boolean Series key will be reindexed to match DataFrame index.\n",
      "  plot_map(df[df['year'] == year][df[\"lon\"] < 41.7][df[\"lon\"] > 36.1][df[\"lat\"]< 46.9][df[\"lat\"] > 43], column,\n"
     ]
    },
    {
     "name": "stdout",
     "output_type": "stream",
     "text": [
      "2034\n"
     ]
    },
    {
     "name": "stderr",
     "output_type": "stream",
     "text": [
      "C:\\Users\\Иван\\AppData\\Local\\Temp\\ipykernel_23128\\961010892.py:7: UserWarning: Boolean Series key will be reindexed to match DataFrame index.\n",
      "  plot_map(df[df['year'] == year][df[\"lon\"] < 41.7][df[\"lon\"] > 36.1][df[\"lat\"]< 46.9][df[\"lat\"] > 43], column,\n"
     ]
    },
    {
     "name": "stdout",
     "output_type": "stream",
     "text": [
      "2035\n"
     ]
    },
    {
     "name": "stderr",
     "output_type": "stream",
     "text": [
      "C:\\Users\\Иван\\AppData\\Local\\Temp\\ipykernel_23128\\961010892.py:7: UserWarning: Boolean Series key will be reindexed to match DataFrame index.\n",
      "  plot_map(df[df['year'] == year][df[\"lon\"] < 41.7][df[\"lon\"] > 36.1][df[\"lat\"]< 46.9][df[\"lat\"] > 43], column,\n"
     ]
    },
    {
     "name": "stdout",
     "output_type": "stream",
     "text": [
      "2036\n"
     ]
    },
    {
     "name": "stderr",
     "output_type": "stream",
     "text": [
      "C:\\Users\\Иван\\AppData\\Local\\Temp\\ipykernel_23128\\961010892.py:7: UserWarning: Boolean Series key will be reindexed to match DataFrame index.\n",
      "  plot_map(df[df['year'] == year][df[\"lon\"] < 41.7][df[\"lon\"] > 36.1][df[\"lat\"]< 46.9][df[\"lat\"] > 43], column,\n"
     ]
    },
    {
     "name": "stdout",
     "output_type": "stream",
     "text": [
      "2037\n"
     ]
    },
    {
     "name": "stderr",
     "output_type": "stream",
     "text": [
      "C:\\Users\\Иван\\AppData\\Local\\Temp\\ipykernel_23128\\961010892.py:7: UserWarning: Boolean Series key will be reindexed to match DataFrame index.\n",
      "  plot_map(df[df['year'] == year][df[\"lon\"] < 41.7][df[\"lon\"] > 36.1][df[\"lat\"]< 46.9][df[\"lat\"] > 43], column,\n"
     ]
    },
    {
     "name": "stdout",
     "output_type": "stream",
     "text": [
      "2038\n"
     ]
    },
    {
     "name": "stderr",
     "output_type": "stream",
     "text": [
      "C:\\Users\\Иван\\AppData\\Local\\Temp\\ipykernel_23128\\961010892.py:7: UserWarning: Boolean Series key will be reindexed to match DataFrame index.\n",
      "  plot_map(df[df['year'] == year][df[\"lon\"] < 41.7][df[\"lon\"] > 36.1][df[\"lat\"]< 46.9][df[\"lat\"] > 43], column,\n"
     ]
    },
    {
     "name": "stdout",
     "output_type": "stream",
     "text": [
      "2039\n"
     ]
    },
    {
     "name": "stderr",
     "output_type": "stream",
     "text": [
      "C:\\Users\\Иван\\AppData\\Local\\Temp\\ipykernel_23128\\961010892.py:7: UserWarning: Boolean Series key will be reindexed to match DataFrame index.\n",
      "  plot_map(df[df['year'] == year][df[\"lon\"] < 41.7][df[\"lon\"] > 36.1][df[\"lat\"]< 46.9][df[\"lat\"] > 43], column,\n"
     ]
    },
    {
     "name": "stdout",
     "output_type": "stream",
     "text": [
      "2040\n"
     ]
    },
    {
     "name": "stderr",
     "output_type": "stream",
     "text": [
      "C:\\Users\\Иван\\AppData\\Local\\Temp\\ipykernel_23128\\961010892.py:7: UserWarning: Boolean Series key will be reindexed to match DataFrame index.\n",
      "  plot_map(df[df['year'] == year][df[\"lon\"] < 41.7][df[\"lon\"] > 36.1][df[\"lat\"]< 46.9][df[\"lat\"] > 43], column,\n"
     ]
    },
    {
     "name": "stdout",
     "output_type": "stream",
     "text": [
      "2041\n"
     ]
    },
    {
     "name": "stderr",
     "output_type": "stream",
     "text": [
      "C:\\Users\\Иван\\AppData\\Local\\Temp\\ipykernel_23128\\961010892.py:7: UserWarning: Boolean Series key will be reindexed to match DataFrame index.\n",
      "  plot_map(df[df['year'] == year][df[\"lon\"] < 41.7][df[\"lon\"] > 36.1][df[\"lat\"]< 46.9][df[\"lat\"] > 43], column,\n"
     ]
    },
    {
     "name": "stdout",
     "output_type": "stream",
     "text": [
      "2042\n"
     ]
    },
    {
     "name": "stderr",
     "output_type": "stream",
     "text": [
      "C:\\Users\\Иван\\AppData\\Local\\Temp\\ipykernel_23128\\961010892.py:7: UserWarning: Boolean Series key will be reindexed to match DataFrame index.\n",
      "  plot_map(df[df['year'] == year][df[\"lon\"] < 41.7][df[\"lon\"] > 36.1][df[\"lat\"]< 46.9][df[\"lat\"] > 43], column,\n"
     ]
    },
    {
     "name": "stdout",
     "output_type": "stream",
     "text": [
      "2043\n"
     ]
    },
    {
     "name": "stderr",
     "output_type": "stream",
     "text": [
      "C:\\Users\\Иван\\AppData\\Local\\Temp\\ipykernel_23128\\961010892.py:7: UserWarning: Boolean Series key will be reindexed to match DataFrame index.\n",
      "  plot_map(df[df['year'] == year][df[\"lon\"] < 41.7][df[\"lon\"] > 36.1][df[\"lat\"]< 46.9][df[\"lat\"] > 43], column,\n"
     ]
    },
    {
     "name": "stdout",
     "output_type": "stream",
     "text": [
      "2044\n"
     ]
    },
    {
     "name": "stderr",
     "output_type": "stream",
     "text": [
      "C:\\Users\\Иван\\AppData\\Local\\Temp\\ipykernel_23128\\961010892.py:7: UserWarning: Boolean Series key will be reindexed to match DataFrame index.\n",
      "  plot_map(df[df['year'] == year][df[\"lon\"] < 41.7][df[\"lon\"] > 36.1][df[\"lat\"]< 46.9][df[\"lat\"] > 43], column,\n"
     ]
    },
    {
     "name": "stdout",
     "output_type": "stream",
     "text": [
      "2045\n"
     ]
    },
    {
     "name": "stderr",
     "output_type": "stream",
     "text": [
      "C:\\Users\\Иван\\AppData\\Local\\Temp\\ipykernel_23128\\961010892.py:7: UserWarning: Boolean Series key will be reindexed to match DataFrame index.\n",
      "  plot_map(df[df['year'] == year][df[\"lon\"] < 41.7][df[\"lon\"] > 36.1][df[\"lat\"]< 46.9][df[\"lat\"] > 43], column,\n"
     ]
    },
    {
     "name": "stdout",
     "output_type": "stream",
     "text": [
      "2046\n"
     ]
    },
    {
     "name": "stderr",
     "output_type": "stream",
     "text": [
      "C:\\Users\\Иван\\AppData\\Local\\Temp\\ipykernel_23128\\961010892.py:7: UserWarning: Boolean Series key will be reindexed to match DataFrame index.\n",
      "  plot_map(df[df['year'] == year][df[\"lon\"] < 41.7][df[\"lon\"] > 36.1][df[\"lat\"]< 46.9][df[\"lat\"] > 43], column,\n"
     ]
    },
    {
     "name": "stdout",
     "output_type": "stream",
     "text": [
      "2047\n"
     ]
    },
    {
     "name": "stderr",
     "output_type": "stream",
     "text": [
      "C:\\Users\\Иван\\AppData\\Local\\Temp\\ipykernel_23128\\961010892.py:7: UserWarning: Boolean Series key will be reindexed to match DataFrame index.\n",
      "  plot_map(df[df['year'] == year][df[\"lon\"] < 41.7][df[\"lon\"] > 36.1][df[\"lat\"]< 46.9][df[\"lat\"] > 43], column,\n"
     ]
    },
    {
     "name": "stdout",
     "output_type": "stream",
     "text": [
      "2048\n"
     ]
    },
    {
     "name": "stderr",
     "output_type": "stream",
     "text": [
      "C:\\Users\\Иван\\AppData\\Local\\Temp\\ipykernel_23128\\961010892.py:7: UserWarning: Boolean Series key will be reindexed to match DataFrame index.\n",
      "  plot_map(df[df['year'] == year][df[\"lon\"] < 41.7][df[\"lon\"] > 36.1][df[\"lat\"]< 46.9][df[\"lat\"] > 43], column,\n"
     ]
    },
    {
     "name": "stdout",
     "output_type": "stream",
     "text": [
      "2049\n"
     ]
    },
    {
     "name": "stderr",
     "output_type": "stream",
     "text": [
      "C:\\Users\\Иван\\AppData\\Local\\Temp\\ipykernel_23128\\961010892.py:7: UserWarning: Boolean Series key will be reindexed to match DataFrame index.\n",
      "  plot_map(df[df['year'] == year][df[\"lon\"] < 41.7][df[\"lon\"] > 36.1][df[\"lat\"]< 46.9][df[\"lat\"] > 43], column,\n"
     ]
    },
    {
     "name": "stdout",
     "output_type": "stream",
     "text": [
      "2050\n"
     ]
    }
   ],
   "source": [
    "column = 'Probability_of_hail'\n",
    "\n",
    "#vmin = df[column].min()\n",
    "#vmax = df[column].max()\n",
    "for year in years:\n",
    "    year = int(year)\n",
    "    plot_map(df[df['year'] == year][df[\"lon\"] < 41.7][df[\"lon\"] > 36.1][df[\"lat\"]< 46.9][df[\"lat\"] > 43], column, \n",
    "             img_path=f'anim/a_{year}_1.jpg', text=f'max prob, year={year}',\n",
    "             show=False)\n",
    "    print(year)\n",
    "    plt.close()"
   ]
  },
  {
   "cell_type": "code",
   "execution_count": 65,
   "metadata": {},
   "outputs": [
    {
     "data": {
      "text/plain": [
       "<AxesSubplot:>"
      ]
     },
     "execution_count": 65,
     "metadata": {},
     "output_type": "execute_result"
    },
    {
     "data": {
      "image/png": "[encoded data removed]",
      "text/plain": [
       "<Figure size 1200x800 with 1 Axes>"
      ]
     },
     "metadata": {
      "needs_background": "light"
     },
     "output_type": "display_data"
    }
   ],
   "source": [
    "world = gpd.read_file(gpd.datasets.get_path('naturalearth_cities'))\n",
    "polygon = box(36.1, 43., 41.7, 46.9)\n",
    "#world = gpd.clip(world, polygon)\n",
    "europe = world[world.continent == 'Europe'] \n",
    "basemap = europe[europe.name =='Russia']\n",
    "f = plt.figure(dpi = 200)\n",
    "ax = f.gca()\n",
    "ax.set_facecolor('white')\n",
    "basemap.plot(ax=ax, color = '#CACACA')"
   ]
  },
  {
   "cell_type": "code",
   "execution_count": 69,
   "metadata": {},
   "outputs": [
    {
     "data": {
      "text/html": [
       "<div>\n",
       "<style scoped>\n",
       "    .dataframe tbody tr th:only-of-type {\n",
       "        vertical-align: middle;\n",
       "    }\n",
       "\n",
       "    .dataframe tbody tr th {\n",
       "        vertical-align: top;\n",
       "    }\n",
       "\n",
       "    .dataframe thead th {\n",
       "        text-align: right;\n",
       "    }\n",
       "</style>\n",
       "<table border=\"1\" class=\"dataframe\">\n",
       "  <thead>\n",
       "    <tr style=\"text-align: right;\">\n",
       "      <th></th>\n",
       "      <th>name</th>\n",
       "      <th>geometry</th>\n",
       "    </tr>\n",
       "  </thead>\n",
       "  <tbody>\n",
       "  </tbody>\n",
       "</table>\n",
       "</div>"
      ],
      "text/plain": [
       "Empty GeoDataFrame\n",
       "Columns: [name, geometry]\n",
       "Index: []"
      ]
     },
     "execution_count": 69,
     "metadata": {},
     "output_type": "execute_result"
    }
   ],
   "source": [
    "d = gpd.read_file(gpd.datasets.get_path('naturalearth_cities'))\n",
    "d[d.name == \"Krasnodar\"]"
   ]
  },
  {
   "cell_type": "markdown",
   "metadata": {},
   "source": [
    "Далее выполняем эту команду (нужна программа ffmpeg, на linux её можно установить с помощью ``sudo apt install ffmpeg``):\n",
    "\n",
    "``ffmpeg -start_number 1900 -framerate 10 -i anim/%d.jpg out.gif``"
   ]
  }
 ],
 "metadata": {
  "interpreter": {
   "hash": "31f2aee4e71d21fbe5cf8b01ff0e069b9275f58929596ceb00d14d90e3e16cd6"
  },
  "kernelspec": {
   "display_name": "Python 3 (ipykernel)",
   "language": "python",
   "name": "python3"
  },
  "language_info": {
   "codemirror_mode": {
    "name": "ipython",
    "version": 3
   },
   "file_extension": ".py",
   "mimetype": "text/x-python",
   "name": "python",
   "nbconvert_exporter": "python",
   "pygments_lexer": "ipython3",
   "version": "3.10.5"
  }
 },
 "nbformat": 4,
 "nbformat_minor": 2
}
