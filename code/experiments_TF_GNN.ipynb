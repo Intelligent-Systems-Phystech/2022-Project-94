{
 "cells": [
  {
   "cell_type": "code",
   "execution_count": 6,
   "id": "reflected-promotion",
   "metadata": {},
   "outputs": [],
   "source": [
    "from prepare_data import get_target\n",
    "import sys\n",
    "import os\n",
    "import src.data_processing as dp\n",
    "from src.utils import *\n",
    "from scipy import signal\n",
    "import numpy as np\n",
    "from matplotlib import pyplot as plt\n",
    "import torch"
   ]
  },
  {
   "cell_type": "code",
   "execution_count": 8,
   "id": "found-episode",
   "metadata": {},
   "outputs": [
    {
     "data": {
      "text/html": [
       "<div>\n",
       "<style scoped>\n",
       "    .dataframe tbody tr th:only-of-type {\n",
       "        vertical-align: middle;\n",
       "    }\n",
       "\n",
       "    .dataframe tbody tr th {\n",
       "        vertical-align: top;\n",
       "    }\n",
       "\n",
       "    .dataframe thead th {\n",
       "        text-align: right;\n",
       "    }\n",
       "</style>\n",
       "<table border=\"1\" class=\"dataframe\">\n",
       "  <thead>\n",
       "    <tr style=\"text-align: right;\">\n",
       "      <th></th>\n",
       "      <th>target</th>\n",
       "    </tr>\n",
       "  </thead>\n",
       "  <tbody>\n",
       "    <tr>\n",
       "      <th>2001-05-01</th>\n",
       "      <td>1</td>\n",
       "    </tr>\n",
       "    <tr>\n",
       "      <th>2005-05-01</th>\n",
       "      <td>1</td>\n",
       "    </tr>\n",
       "    <tr>\n",
       "      <th>2007-06-01</th>\n",
       "      <td>1</td>\n",
       "    </tr>\n",
       "  </tbody>\n",
       "</table>\n",
       "</div>"
      ],
      "text/plain": [
       "            target\n",
       "2001-05-01       1\n",
       "2005-05-01       1\n",
       "2007-06-01       1"
      ]
     },
     "execution_count": 8,
     "metadata": {},
     "output_type": "execute_result"
    }
   ],
   "source": [
    "feature_names = ['tmean']\n",
    "numpys = dp.get_nps(feature_names, 'data/Tambovskaya/2001/*.tif') #location for .tif files -- geo data -- saved at your google drive\n",
    "tmean = numpys['tmean']\n",
    "\n",
    "target = get_target()"
   ]
  },
  {
   "cell_type": "markdown",
   "id": "unusual-jungle",
   "metadata": {},
   "source": [
    "# Dataset Info"
   ]
  },
  {
   "cell_type": "code",
   "execution_count": null,
   "id": "christian-nerve",
   "metadata": {},
   "outputs": [],
   "source": [
    "print(\"Number of dimensions: \", len(tmean.shape))\n",
    "print(\"First dimension: time - \", tmean.shape[0], \" - months\")\n",
    "print(\"Second dimension: longtitude - \", tmean.shape[1], \" - pixels (points)\")\n",
    "print(\"Third dimension: latitude - \", tmean.shape[2], \" - pixels (points)\")\n",
    "print(\"Hail events: \")\n",
    "target[target[\"target\"] == 1]"
   ]
  },
  {
   "cell_type": "code",
   "execution_count": 1,
   "id": "extreme-grade",
   "metadata": {},
   "outputs": [],
   "source": [
    "from model import GNN\n",
    "import torch"
   ]
  },
  {
   "cell_type": "code",
   "execution_count": 2,
   "id": "buried-grill",
   "metadata": {},
   "outputs": [
    {
     "name": "stdout",
     "output_type": "stream",
     "text": [
      "JOPA\n",
      "aa\n"
     ]
    }
   ],
   "source": [
    "x = torch.Tensor([[1, 2, 3], [1, 2, 3], [1, 2, 3]])\n",
    "long, lat = 3, 3\n",
    "layer = GNN.GNNLayer(1, 3, 3)"
   ]
  },
  {
   "cell_type": "code",
   "execution_count": 13,
   "id": "insured-promise",
   "metadata": {},
   "outputs": [
    {
     "name": "stdout",
     "output_type": "stream",
     "text": [
      "4\n"
     ]
    }
   ],
   "source": [
    "for i in range(lat + 1, (long - 1) * lat - 1):\n",
    "    print(i)"
   ]
  },
  {
   "cell_type": "code",
   "execution_count": 14,
   "id": "finite-johnson",
   "metadata": {},
   "outputs": [
    {
     "name": "stdout",
     "output_type": "stream",
     "text": [
      "tensor([[1., 0., 0., 0., 0., 0., 0., 0., 0.],\n",
      "        [0., 1., 0., 0., 1., 0., 0., 0., 0.],\n",
      "        [0., 0., 1., 0., 0., 0., 0., 0., 0.],\n",
      "        [0., 0., 0., 1., 1., 0., 0., 0., 0.],\n",
      "        [0., 1., 0., 1., 1., 1., 0., 1., 0.],\n",
      "        [0., 0., 0., 0., 1., 1., 0., 0., 0.],\n",
      "        [0., 0., 0., 0., 0., 0., 1., 0., 0.],\n",
      "        [0., 0., 0., 0., 1., 0., 0., 1., 0.],\n",
      "        [0., 0., 0., 0., 0., 0., 0., 0., 1.]])\n"
     ]
    }
   ],
   "source": [
    "A1 = torch.zeros((long * lat, long * lat))\n",
    "for i in range(long * lat):\n",
    "    A1[i, i] = 1\n",
    "for i in range(lat + 1, (long - 1) * lat - 1):\n",
    "    A1[i, i - 1] = 1\n",
    "    A1[i, i + 1] = 1\n",
    "    A1[i, i + lat] = 1\n",
    "    A1[i, i - lat] = 1\n",
    "    A1[i - 1, i] = 1\n",
    "    A1[i + 1, i] = 1\n",
    "    A1[i + lat, i] = 1\n",
    "    A1[i - lat, i] = 1\n",
    "print(A1)"
   ]
  },
  {
   "cell_type": "code",
   "execution_count": null,
   "id": "floral-vietnam",
   "metadata": {},
   "outputs": [],
   "source": []
  }
 ],
 "metadata": {
  "kernelspec": {
   "display_name": "Python 3",
   "language": "python",
   "name": "python3"
  },
  "language_info": {
   "codemirror_mode": {
    "name": "ipython",
    "version": 3
   },
   "file_extension": ".py",
   "mimetype": "text/x-python",
   "name": "python",
   "nbconvert_exporter": "python",
   "pygments_lexer": "ipython3",
   "version": "3.8.8"
  }
 },
 "nbformat": 4,
 "nbformat_minor": 5
}
