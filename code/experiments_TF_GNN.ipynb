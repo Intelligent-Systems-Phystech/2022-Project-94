{
 "cells": [
  {
   "cell_type": "code",
   "execution_count": 1,
   "id": "younger-initial",
   "metadata": {},
   "outputs": [],
   "source": [
    "import sys\n",
    "import os\n",
    "import src.data_processing as dp\n",
    "from src.utils import *\n",
    "from scipy import signal\n",
    "import numpy as np\n",
    "from matplotlib import pyplot as plt\n",
    "import torch\n",
    "from model.losses import EVL\n",
    "from model.HailNet import HailNet"
   ]
  },
  {
   "cell_type": "code",
   "execution_count": 4,
   "id": "infrared-throat",
   "metadata": {},
   "outputs": [
    {
     "data": {
      "text/plain": [
       "torch.Size([48, 12, 3, 234, 346])"
      ]
     },
     "execution_count": 4,
     "metadata": {},
     "output_type": "execute_result"
    }
   ],
   "source": [
    "train_dl, x = dp.get_traindl((2001, 2005), [\"mean_2m_air_temperature\", \"surface_pressure\", \"total_precipitation\"], \"data/Tambov\")\n",
    "\n",
    "x.shape"
   ]
  },
  {
   "cell_type": "code",
   "execution_count": null,
   "id": "pursuant-hobby",
   "metadata": {},
   "outputs": [],
   "source": [
    "x[:, 1].shape"
   ]
  },
  {
   "cell_type": "code",
   "execution_count": 7,
   "id": "medical-training",
   "metadata": {},
   "outputs": [
    {
     "name": "stdout",
     "output_type": "stream",
     "text": [
      "2\n",
      "3\n",
      "4\n"
     ]
    }
   ],
   "source": [
    "import numpy as np\n",
    "for k in 1 + np.array([1, 2, 3]):\n",
    "    print(k)"
   ]
  },
  {
   "cell_type": "code",
   "execution_count": null,
   "id": "illegal-somerset",
   "metadata": {},
   "outputs": [],
   "source": []
  }
 ],
 "metadata": {
  "kernelspec": {
   "display_name": "Python 3",
   "language": "python",
   "name": "python3"
  },
  "language_info": {
   "codemirror_mode": {
    "name": "ipython",
    "version": 3
   },
   "file_extension": ".py",
   "mimetype": "text/x-python",
   "name": "python",
   "nbconvert_exporter": "python",
   "pygments_lexer": "ipython3",
   "version": "3.8.8"
  }
 },
 "nbformat": 4,
 "nbformat_minor": 5
}
