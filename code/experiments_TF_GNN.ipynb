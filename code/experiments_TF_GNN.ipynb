{
 "cells": [
  {
   "cell_type": "code",
   "execution_count": 4,
   "id": "neutral-baltimore",
   "metadata": {},
   "outputs": [],
   "source": [
    "import sys\n",
    "import os\n",
    "import src.data_processing as dp\n",
    "from src.utils import *\n",
    "from scipy import signal\n",
    "import numpy as np\n",
    "from matplotlib import pyplot as plt\n",
    "import torch\n",
    "from model.losses import EVL\n",
    "from model.HailNet import HailNet"
   ]
  },
  {
   "cell_type": "code",
   "execution_count": null,
   "id": "substantial-cancer",
   "metadata": {},
   "outputs": [],
   "source": [
    "model = HailNet(1, )"
   ]
  },
  {
   "cell_type": "code",
   "execution_count": 2,
   "id": "completed-balance",
   "metadata": {},
   "outputs": [],
   "source": [
    "criterion = EVL(4, 0.98, 0.02)"
   ]
  },
  {
   "cell_type": "code",
   "execution_count": 3,
   "id": "gentle-worse",
   "metadata": {},
   "outputs": [
    {
     "name": "stdout",
     "output_type": "stream",
     "text": [
      "tensor([0.0021, 0.0038, 1.1365, 0.0912])\n"
     ]
    }
   ],
   "source": [
    "criterion = EVL(4, 0.98, 0.02)\n",
    "y_pred = torch.Tensor([0.22, 0.33, 0.23, 0.99])\n",
    "y_true = torch.Tensor([0.0, 0.0, 1.0, 0.0])\n",
    "loss = criterion(y_pred, y_true)\n",
    "print(loss)"
   ]
  },
  {
   "cell_type": "code",
   "execution_count": 4,
   "id": "exact-victoria",
   "metadata": {},
   "outputs": [
    {
     "data": {
      "text/plain": [
       "<function Tensor.mean>"
      ]
     },
     "execution_count": 4,
     "metadata": {},
     "output_type": "execute_result"
    }
   ],
   "source": [
    "loss"
   ]
  },
  {
   "cell_type": "code",
   "execution_count": 13,
   "id": "voluntary-sunset",
   "metadata": {},
   "outputs": [
    {
     "data": {
      "text/plain": [
       "torch.Size([4, 12, 234, 346])"
      ]
     },
     "execution_count": 13,
     "metadata": {},
     "output_type": "execute_result"
    }
   ],
   "source": [
    "train_dl = dp.get_traindl((2001, 2005), \"mean_2m_air_temperature\", \"data/Tambov\")\n",
    "for i, (xb, yb) in enumerate(train_dl[0]):\n",
    "    x = xb\n",
    "    break\n",
    "x.shape"
   ]
  },
  {
   "cell_type": "code",
   "execution_count": 15,
   "id": "other-delay",
   "metadata": {},
   "outputs": [
    {
     "data": {
      "text/plain": [
       "torch.Size([4, 234, 346])"
      ]
     },
     "execution_count": 15,
     "metadata": {},
     "output_type": "execute_result"
    }
   ],
   "source": [
    "x[:, 1].shape"
   ]
  },
  {
   "cell_type": "code",
   "execution_count": null,
   "id": "electric-behavior",
   "metadata": {},
   "outputs": [],
   "source": []
  }
 ],
 "metadata": {
  "kernelspec": {
   "display_name": "Python 3",
   "language": "python",
   "name": "python3"
  },
  "language_info": {
   "codemirror_mode": {
    "name": "ipython",
    "version": 3
   },
   "file_extension": ".py",
   "mimetype": "text/x-python",
   "name": "python",
   "nbconvert_exporter": "python",
   "pygments_lexer": "ipython3",
   "version": "3.8.8"
  }
 },
 "nbformat": 4,
 "nbformat_minor": 5
}
